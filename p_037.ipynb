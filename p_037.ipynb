{
 "cells": [
  {
   "cell_type": "code",
   "execution_count": 2,
   "id": "bbcdac52",
   "metadata": {},
   "outputs": [],
   "source": [
    "#p37\n",
    "from bokeh.plotting import figure, output_file, show\n",
    "#HTML file to output your plot into\n",
    "output_file(r\"C:\\xxu\\my_python_bokeh\\bokeh.html\")\n",
    "#Constructing a basic line plot\n",
    "x = [1,2,3]\n",
    "y = [4,5,6]\n",
    "p = figure()\n",
    "p.line(x,y)\n",
    "show(p)"
   ]
  },
  {
   "cell_type": "code",
   "execution_count": 5,
   "id": "8911b53b",
   "metadata": {},
   "outputs": [],
   "source": [
    "#p48\n",
    "#Importing the required packages\n",
    "from bokeh.io import output_file, show\n",
    "from bokeh.plotting import figure\n",
    "#Creating our data arrays used for plotting the line plot\n",
    "x = [5,6,7,8,9,10]\n",
    "y = [1,2,3,4,5,6]\n",
    "#Calling the figure() function to create the figure of the plot\n",
    "plot = figure()\n",
    "#Creating a line plot using the line() function\n",
    "plot.line(x,y)\n",
    "#Creating markers on our line plot at the location of the intersection between x and y\n",
    "plot.cross(x,y, size = 15)\n",
    "#Output the plot\n",
    "output_file(r'C:\\xxu\\my_python_bokeh\\line_plot.html')\n",
    "show(plot)"
   ]
  },
  {
   "cell_type": "code",
   "execution_count": 6,
   "id": "21abbd51",
   "metadata": {},
   "outputs": [],
   "source": [
    "#p50\n",
    "#Importing the required packages\n",
    "from bokeh.plotting import figure, show, output_file\n",
    "#Points on the x axis\n",
    "x = [8,9,10]\n",
    "#Points on the y axis\n",
    "y = [1,2,3]\n",
    "#Creating the figure of the plot\n",
    "plot = figure()\n",
    "#Code to create the barplot\n",
    "plot.vbar(x,top = y, color = \"blue\", width= 0.5)\n",
    "#Output the plot\n",
    "output_file(r'C:\\xxu\\my_python_bokeh\\barplot.html')\n",
    "show(plot)"
   ]
  },
  {
   "cell_type": "code",
   "execution_count": 7,
   "id": "7502531d",
   "metadata": {},
   "outputs": [],
   "source": [
    "#p52\n",
    "#Importing the required packages\n",
    "from bokeh.io import output_file, show\n",
    "from bokeh.plotting import figure\n",
    "#Creating the regions to map\n",
    "x_region = [[1,1,2,], [2,2,3], [2,3,5,4]]\n",
    "y_region = [[2,5,6], [3,6,7], [2,4,7,8]]\n",
    "#Creating the figure\n",
    "plot = figure()\n",
    "#Building the patch plot\n",
    "plot.patches(x_region, y_region, fill_color = ['yellow', 'black', 'green'],\n",
    "line_color = 'white')\n",
    "#Output the plot\n",
    "output_file(r'C:\\xxu\\my_python_bokeh\\patch_plot.html')\n",
    "show(plot)"
   ]
  },
  {
   "cell_type": "code",
   "execution_count": null,
   "id": "c87fdd0f",
   "metadata": {},
   "outputs": [],
   "source": []
  }
 ],
 "metadata": {
  "kernelspec": {
   "display_name": "Python 3 (ipykernel)",
   "language": "python",
   "name": "python3"
  },
  "language_info": {
   "codemirror_mode": {
    "name": "ipython",
    "version": 3
   },
   "file_extension": ".py",
   "mimetype": "text/x-python",
   "name": "python",
   "nbconvert_exporter": "python",
   "pygments_lexer": "ipython3",
   "version": "3.9.12"
  }
 },
 "nbformat": 4,
 "nbformat_minor": 5
}
